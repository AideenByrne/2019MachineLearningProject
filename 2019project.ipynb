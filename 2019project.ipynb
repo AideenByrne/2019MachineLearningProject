{
 "cells": [
  {
   "cell_type": "markdown",
   "metadata": {
    "collapsed": true
   },
   "source": [
    "# Boston House Prices Dataset - An Investigation\n",
    "\n",
    "## Introduction\n",
    "\n",
    "The Boston Housing Data consists of information collected by the US Census Service on housing in the Boston, Massachusetts area in 1970 and contains [506 entries with 13 distinct categories](https://www.kaggle.com/c/boston-housing) of numerical data. After doing some [background reading](https://towardsdatascience.com/linear-regression-on-boston-housing-dataset-f409b7e4a155as) about the data set I discovered that it is included in [SciKit Learn](https://scikit-learn.org/stable/modules/generated/sklearn.datasets.load_boston.html), the Python machine learning library, and can therefore be easily imported into this notebook to anaylse. "
   ]
  },
  {
   "cell_type": "code",
   "execution_count": 27,
   "metadata": {},
   "outputs": [],
   "source": [
    "#Importing dataset\n",
    "from sklearn.datasets import load_boston ##https://towardsdatascience.com/linear-regression-on-boston-housing-dataset-f409b7e4a155\n",
    "boston = load_boston()\n",
    "\n",
    "#import the other libraries and packages required to analyse the dataset\n",
    "#for plotting graphs\n",
    "import matplotlib.pyplot as plt\n",
    "#for working with numerical arrays\n",
    "import numpy as np\n",
    "#for data visualisation\n",
    "import seaborn as sns\n",
    "#for statistical functions\n",
    "import scipy.stats as ss\n",
    "#for handling data\n",
    "import pandas as pd\n",
    "#\"magic\" code for displaying matplotlib generated plots in jupyter\n",
    "%matplotlib inline\n",
    "#for creating neural networks \n",
    "import keras as kr\n",
    "#for splitting datasets\n",
    "import sklearn.model_selection as mod\n",
    "# For preprocessing data\n",
    "import sklearn.preprocessing as pre"
   ]
  },
  {
   "cell_type": "markdown",
   "metadata": {},
   "source": [
    "To take a first look at the data set we can use the below commands to ascertain the categories it holds and the characteristics of the data. "
   ]
  },
  {
   "cell_type": "code",
   "execution_count": 28,
   "metadata": {},
   "outputs": [
    {
     "name": "stdout",
     "output_type": "stream",
     "text": [
      "dict_keys(['data', 'target', 'feature_names', 'DESCR', 'filename'])\n"
     ]
    }
   ],
   "source": [
    "print (boston.keys()) #https://towardsdatascience.com/linear-regression-on-boston-housing-dataset-f409b7e4a155"
   ]
  },
  {
   "cell_type": "code",
   "execution_count": 29,
   "metadata": {},
   "outputs": [
    {
     "name": "stdout",
     "output_type": "stream",
     "text": [
      ".. _boston_dataset:\n",
      "\n",
      "Boston house prices dataset\n",
      "---------------------------\n",
      "\n",
      "**Data Set Characteristics:**  \n",
      "\n",
      "    :Number of Instances: 506 \n",
      "\n",
      "    :Number of Attributes: 13 numeric/categorical predictive. Median Value (attribute 14) is usually the target.\n",
      "\n",
      "    :Attribute Information (in order):\n",
      "        - CRIM     per capita crime rate by town\n",
      "        - ZN       proportion of residential land zoned for lots over 25,000 sq.ft.\n",
      "        - INDUS    proportion of non-retail business acres per town\n",
      "        - CHAS     Charles River dummy variable (= 1 if tract bounds river; 0 otherwise)\n",
      "        - NOX      nitric oxides concentration (parts per 10 million)\n",
      "        - RM       average number of rooms per dwelling\n",
      "        - AGE      proportion of owner-occupied units built prior to 1940\n",
      "        - DIS      weighted distances to five Boston employment centres\n",
      "        - RAD      index of accessibility to radial highways\n",
      "        - TAX      full-value property-tax rate per $10,000\n",
      "        - PTRATIO  pupil-teacher ratio by town\n",
      "        - B        1000(Bk - 0.63)^2 where Bk is the proportion of blacks by town\n",
      "        - LSTAT    % lower status of the population\n",
      "        - MEDV     Median value of owner-occupied homes in $1000's\n",
      "\n",
      "    :Missing Attribute Values: None\n",
      "\n",
      "    :Creator: Harrison, D. and Rubinfeld, D.L.\n",
      "\n",
      "This is a copy of UCI ML housing dataset.\n",
      "https://archive.ics.uci.edu/ml/machine-learning-databases/housing/\n",
      "\n",
      "\n",
      "This dataset was taken from the StatLib library which is maintained at Carnegie Mellon University.\n",
      "\n",
      "The Boston house-price data of Harrison, D. and Rubinfeld, D.L. 'Hedonic\n",
      "prices and the demand for clean air', J. Environ. Economics & Management,\n",
      "vol.5, 81-102, 1978.   Used in Belsley, Kuh & Welsch, 'Regression diagnostics\n",
      "...', Wiley, 1980.   N.B. Various transformations are used in the table on\n",
      "pages 244-261 of the latter.\n",
      "\n",
      "The Boston house-price data has been used in many machine learning papers that address regression\n",
      "problems.   \n",
      "     \n",
      ".. topic:: References\n",
      "\n",
      "   - Belsley, Kuh & Welsch, 'Regression diagnostics: Identifying Influential Data and Sources of Collinearity', Wiley, 1980. 244-261.\n",
      "   - Quinlan,R. (1993). Combining Instance-Based and Model-Based Learning. In Proceedings on the Tenth International Conference of Machine Learning, 236-243, University of Massachusetts, Amherst. Morgan Kaufmann.\n",
      "\n"
     ]
    }
   ],
   "source": [
    "print (boston.DESCR) #https://scikit-learn.org/stable/modules/generated/sklearn.datasets.load_boston.html"
   ]
  },
  {
   "cell_type": "markdown",
   "metadata": {},
   "source": [
    "From the above detail it is made clear that there is a 14th \"target\" variable named **MEDV**, which is the \"median value of owner-occupied homes in $1,000's\".  The information listed above also verifies that there is no missing data in any of the attribute fields, which means that the data doesn't need to cleaned before any exploratory analysis can be performed, but to be certain, loading the data to a Pandas dataframe and using the **isnull()** function will confirm that - "
   ]
  },
  {
   "cell_type": "code",
   "execution_count": 30,
   "metadata": {},
   "outputs": [
    {
     "data": {
      "text/plain": [
       "CRIM       False\n",
       "ZN         False\n",
       "INDUS      False\n",
       "CHAS       False\n",
       "NOX        False\n",
       "RM         False\n",
       "AGE        False\n",
       "DIS        False\n",
       "RAD        False\n",
       "TAX        False\n",
       "PTRATIO    False\n",
       "B          False\n",
       "LSTAT      False\n",
       "dtype: bool"
      ]
     },
     "execution_count": 30,
     "metadata": {},
     "output_type": "execute_result"
    }
   ],
   "source": [
    "#load Boston dataset into Pandas dataframe https://towardsdatascience.com/linear-regression-on-boston-housing-dataset-f409b7e4a155\n",
    "df = pd.DataFrame(boston.data, columns=boston.feature_names)\n",
    "#http://www.neural.cz/dataset-exploration-boston-house-pricing.html\n",
    "pd.isnull(df).any()"
   ]
  },
  {
   "cell_type": "markdown",
   "metadata": {},
   "source": [
    "## Descriptive analysis\n",
    "Descriptive statistics give a simple summary of a data set, and include such observations as the count, [standard deviation, minimum, maximum and mean](https://en.wikipedia.org/wiki/Descriptive_statistics) for example. This type of statistics doesn't make any assumptions about the data, rather it is a method by which to synopsise and describe it.  One way of finding out these sorts of observations about the Boston dataset is by using the Pandas [describe function](https://pandas.pydata.org/pandas-docs/stable/reference/api/pandas.DataFrame.describe.html). With this function it is possible to summarise all columns and calculate some of these statistics - "
   ]
  },
  {
   "cell_type": "code",
   "execution_count": 31,
   "metadata": {},
   "outputs": [
    {
     "data": {
      "text/html": [
       "<div>\n",
       "<style scoped>\n",
       "    .dataframe tbody tr th:only-of-type {\n",
       "        vertical-align: middle;\n",
       "    }\n",
       "\n",
       "    .dataframe tbody tr th {\n",
       "        vertical-align: top;\n",
       "    }\n",
       "\n",
       "    .dataframe thead th {\n",
       "        text-align: right;\n",
       "    }\n",
       "</style>\n",
       "<table border=\"1\" class=\"dataframe\">\n",
       "  <thead>\n",
       "    <tr style=\"text-align: right;\">\n",
       "      <th></th>\n",
       "      <th>CRIM</th>\n",
       "      <th>ZN</th>\n",
       "      <th>INDUS</th>\n",
       "      <th>CHAS</th>\n",
       "      <th>NOX</th>\n",
       "      <th>RM</th>\n",
       "      <th>AGE</th>\n",
       "      <th>DIS</th>\n",
       "      <th>RAD</th>\n",
       "      <th>TAX</th>\n",
       "      <th>PTRATIO</th>\n",
       "      <th>B</th>\n",
       "      <th>LSTAT</th>\n",
       "    </tr>\n",
       "  </thead>\n",
       "  <tbody>\n",
       "    <tr>\n",
       "      <th>count</th>\n",
       "      <td>506.000000</td>\n",
       "      <td>506.000000</td>\n",
       "      <td>506.000000</td>\n",
       "      <td>506.000000</td>\n",
       "      <td>506.000000</td>\n",
       "      <td>506.000000</td>\n",
       "      <td>506.000000</td>\n",
       "      <td>506.000000</td>\n",
       "      <td>506.000000</td>\n",
       "      <td>506.000000</td>\n",
       "      <td>506.000000</td>\n",
       "      <td>506.000000</td>\n",
       "      <td>506.000000</td>\n",
       "    </tr>\n",
       "    <tr>\n",
       "      <th>mean</th>\n",
       "      <td>3.613524</td>\n",
       "      <td>11.363636</td>\n",
       "      <td>11.136779</td>\n",
       "      <td>0.069170</td>\n",
       "      <td>0.554695</td>\n",
       "      <td>6.284634</td>\n",
       "      <td>68.574901</td>\n",
       "      <td>3.795043</td>\n",
       "      <td>9.549407</td>\n",
       "      <td>408.237154</td>\n",
       "      <td>18.455534</td>\n",
       "      <td>356.674032</td>\n",
       "      <td>12.653063</td>\n",
       "    </tr>\n",
       "    <tr>\n",
       "      <th>std</th>\n",
       "      <td>8.601545</td>\n",
       "      <td>23.322453</td>\n",
       "      <td>6.860353</td>\n",
       "      <td>0.253994</td>\n",
       "      <td>0.115878</td>\n",
       "      <td>0.702617</td>\n",
       "      <td>28.148861</td>\n",
       "      <td>2.105710</td>\n",
       "      <td>8.707259</td>\n",
       "      <td>168.537116</td>\n",
       "      <td>2.164946</td>\n",
       "      <td>91.294864</td>\n",
       "      <td>7.141062</td>\n",
       "    </tr>\n",
       "    <tr>\n",
       "      <th>min</th>\n",
       "      <td>0.006320</td>\n",
       "      <td>0.000000</td>\n",
       "      <td>0.460000</td>\n",
       "      <td>0.000000</td>\n",
       "      <td>0.385000</td>\n",
       "      <td>3.561000</td>\n",
       "      <td>2.900000</td>\n",
       "      <td>1.129600</td>\n",
       "      <td>1.000000</td>\n",
       "      <td>187.000000</td>\n",
       "      <td>12.600000</td>\n",
       "      <td>0.320000</td>\n",
       "      <td>1.730000</td>\n",
       "    </tr>\n",
       "    <tr>\n",
       "      <th>25%</th>\n",
       "      <td>0.082045</td>\n",
       "      <td>0.000000</td>\n",
       "      <td>5.190000</td>\n",
       "      <td>0.000000</td>\n",
       "      <td>0.449000</td>\n",
       "      <td>5.885500</td>\n",
       "      <td>45.025000</td>\n",
       "      <td>2.100175</td>\n",
       "      <td>4.000000</td>\n",
       "      <td>279.000000</td>\n",
       "      <td>17.400000</td>\n",
       "      <td>375.377500</td>\n",
       "      <td>6.950000</td>\n",
       "    </tr>\n",
       "    <tr>\n",
       "      <th>50%</th>\n",
       "      <td>0.256510</td>\n",
       "      <td>0.000000</td>\n",
       "      <td>9.690000</td>\n",
       "      <td>0.000000</td>\n",
       "      <td>0.538000</td>\n",
       "      <td>6.208500</td>\n",
       "      <td>77.500000</td>\n",
       "      <td>3.207450</td>\n",
       "      <td>5.000000</td>\n",
       "      <td>330.000000</td>\n",
       "      <td>19.050000</td>\n",
       "      <td>391.440000</td>\n",
       "      <td>11.360000</td>\n",
       "    </tr>\n",
       "    <tr>\n",
       "      <th>75%</th>\n",
       "      <td>3.677083</td>\n",
       "      <td>12.500000</td>\n",
       "      <td>18.100000</td>\n",
       "      <td>0.000000</td>\n",
       "      <td>0.624000</td>\n",
       "      <td>6.623500</td>\n",
       "      <td>94.075000</td>\n",
       "      <td>5.188425</td>\n",
       "      <td>24.000000</td>\n",
       "      <td>666.000000</td>\n",
       "      <td>20.200000</td>\n",
       "      <td>396.225000</td>\n",
       "      <td>16.955000</td>\n",
       "    </tr>\n",
       "    <tr>\n",
       "      <th>max</th>\n",
       "      <td>88.976200</td>\n",
       "      <td>100.000000</td>\n",
       "      <td>27.740000</td>\n",
       "      <td>1.000000</td>\n",
       "      <td>0.871000</td>\n",
       "      <td>8.780000</td>\n",
       "      <td>100.000000</td>\n",
       "      <td>12.126500</td>\n",
       "      <td>24.000000</td>\n",
       "      <td>711.000000</td>\n",
       "      <td>22.000000</td>\n",
       "      <td>396.900000</td>\n",
       "      <td>37.970000</td>\n",
       "    </tr>\n",
       "  </tbody>\n",
       "</table>\n",
       "</div>"
      ],
      "text/plain": [
       "             CRIM          ZN       INDUS        CHAS         NOX          RM  \\\n",
       "count  506.000000  506.000000  506.000000  506.000000  506.000000  506.000000   \n",
       "mean     3.613524   11.363636   11.136779    0.069170    0.554695    6.284634   \n",
       "std      8.601545   23.322453    6.860353    0.253994    0.115878    0.702617   \n",
       "min      0.006320    0.000000    0.460000    0.000000    0.385000    3.561000   \n",
       "25%      0.082045    0.000000    5.190000    0.000000    0.449000    5.885500   \n",
       "50%      0.256510    0.000000    9.690000    0.000000    0.538000    6.208500   \n",
       "75%      3.677083   12.500000   18.100000    0.000000    0.624000    6.623500   \n",
       "max     88.976200  100.000000   27.740000    1.000000    0.871000    8.780000   \n",
       "\n",
       "              AGE         DIS         RAD         TAX     PTRATIO           B  \\\n",
       "count  506.000000  506.000000  506.000000  506.000000  506.000000  506.000000   \n",
       "mean    68.574901    3.795043    9.549407  408.237154   18.455534  356.674032   \n",
       "std     28.148861    2.105710    8.707259  168.537116    2.164946   91.294864   \n",
       "min      2.900000    1.129600    1.000000  187.000000   12.600000    0.320000   \n",
       "25%     45.025000    2.100175    4.000000  279.000000   17.400000  375.377500   \n",
       "50%     77.500000    3.207450    5.000000  330.000000   19.050000  391.440000   \n",
       "75%     94.075000    5.188425   24.000000  666.000000   20.200000  396.225000   \n",
       "max    100.000000   12.126500   24.000000  711.000000   22.000000  396.900000   \n",
       "\n",
       "            LSTAT  \n",
       "count  506.000000  \n",
       "mean    12.653063  \n",
       "std      7.141062  \n",
       "min      1.730000  \n",
       "25%      6.950000  \n",
       "50%     11.360000  \n",
       "75%     16.955000  \n",
       "max     37.970000  "
      ]
     },
     "execution_count": 31,
     "metadata": {},
     "output_type": "execute_result"
    }
   ],
   "source": [
    "#summarise dataset\n",
    "df.describe()"
   ]
  },
  {
   "cell_type": "markdown",
   "metadata": {},
   "source": [
    "All of the so-called [13 \"feature\" attributes](https://www.kaggle.com/shreayan98c/boston-house-price-prediction) have been automatically included in the above dataframe. In order to understand the MEDV variable it is necessary to generate it as the \"target\" value add it as a new column to the dataframe. "
   ]
  },
  {
   "cell_type": "code",
   "execution_count": 32,
   "metadata": {},
   "outputs": [
    {
     "data": {
      "text/html": [
       "<div>\n",
       "<style scoped>\n",
       "    .dataframe tbody tr th:only-of-type {\n",
       "        vertical-align: middle;\n",
       "    }\n",
       "\n",
       "    .dataframe tbody tr th {\n",
       "        vertical-align: top;\n",
       "    }\n",
       "\n",
       "    .dataframe thead th {\n",
       "        text-align: right;\n",
       "    }\n",
       "</style>\n",
       "<table border=\"1\" class=\"dataframe\">\n",
       "  <thead>\n",
       "    <tr style=\"text-align: right;\">\n",
       "      <th></th>\n",
       "      <th>CRIM</th>\n",
       "      <th>ZN</th>\n",
       "      <th>INDUS</th>\n",
       "      <th>CHAS</th>\n",
       "      <th>NOX</th>\n",
       "      <th>RM</th>\n",
       "      <th>AGE</th>\n",
       "      <th>DIS</th>\n",
       "      <th>RAD</th>\n",
       "      <th>TAX</th>\n",
       "      <th>PTRATIO</th>\n",
       "      <th>B</th>\n",
       "      <th>LSTAT</th>\n",
       "      <th>MEDV</th>\n",
       "    </tr>\n",
       "  </thead>\n",
       "  <tbody>\n",
       "    <tr>\n",
       "      <th>0</th>\n",
       "      <td>0.00632</td>\n",
       "      <td>18.0</td>\n",
       "      <td>2.31</td>\n",
       "      <td>0.0</td>\n",
       "      <td>0.538</td>\n",
       "      <td>6.575</td>\n",
       "      <td>65.2</td>\n",
       "      <td>4.0900</td>\n",
       "      <td>1.0</td>\n",
       "      <td>296.0</td>\n",
       "      <td>15.3</td>\n",
       "      <td>396.90</td>\n",
       "      <td>4.98</td>\n",
       "      <td>24.0</td>\n",
       "    </tr>\n",
       "    <tr>\n",
       "      <th>1</th>\n",
       "      <td>0.02731</td>\n",
       "      <td>0.0</td>\n",
       "      <td>7.07</td>\n",
       "      <td>0.0</td>\n",
       "      <td>0.469</td>\n",
       "      <td>6.421</td>\n",
       "      <td>78.9</td>\n",
       "      <td>4.9671</td>\n",
       "      <td>2.0</td>\n",
       "      <td>242.0</td>\n",
       "      <td>17.8</td>\n",
       "      <td>396.90</td>\n",
       "      <td>9.14</td>\n",
       "      <td>21.6</td>\n",
       "    </tr>\n",
       "    <tr>\n",
       "      <th>2</th>\n",
       "      <td>0.02729</td>\n",
       "      <td>0.0</td>\n",
       "      <td>7.07</td>\n",
       "      <td>0.0</td>\n",
       "      <td>0.469</td>\n",
       "      <td>7.185</td>\n",
       "      <td>61.1</td>\n",
       "      <td>4.9671</td>\n",
       "      <td>2.0</td>\n",
       "      <td>242.0</td>\n",
       "      <td>17.8</td>\n",
       "      <td>392.83</td>\n",
       "      <td>4.03</td>\n",
       "      <td>34.7</td>\n",
       "    </tr>\n",
       "    <tr>\n",
       "      <th>3</th>\n",
       "      <td>0.03237</td>\n",
       "      <td>0.0</td>\n",
       "      <td>2.18</td>\n",
       "      <td>0.0</td>\n",
       "      <td>0.458</td>\n",
       "      <td>6.998</td>\n",
       "      <td>45.8</td>\n",
       "      <td>6.0622</td>\n",
       "      <td>3.0</td>\n",
       "      <td>222.0</td>\n",
       "      <td>18.7</td>\n",
       "      <td>394.63</td>\n",
       "      <td>2.94</td>\n",
       "      <td>33.4</td>\n",
       "    </tr>\n",
       "    <tr>\n",
       "      <th>4</th>\n",
       "      <td>0.06905</td>\n",
       "      <td>0.0</td>\n",
       "      <td>2.18</td>\n",
       "      <td>0.0</td>\n",
       "      <td>0.458</td>\n",
       "      <td>7.147</td>\n",
       "      <td>54.2</td>\n",
       "      <td>6.0622</td>\n",
       "      <td>3.0</td>\n",
       "      <td>222.0</td>\n",
       "      <td>18.7</td>\n",
       "      <td>396.90</td>\n",
       "      <td>5.33</td>\n",
       "      <td>36.2</td>\n",
       "    </tr>\n",
       "  </tbody>\n",
       "</table>\n",
       "</div>"
      ],
      "text/plain": [
       "      CRIM    ZN  INDUS  CHAS    NOX     RM   AGE     DIS  RAD    TAX  \\\n",
       "0  0.00632  18.0   2.31   0.0  0.538  6.575  65.2  4.0900  1.0  296.0   \n",
       "1  0.02731   0.0   7.07   0.0  0.469  6.421  78.9  4.9671  2.0  242.0   \n",
       "2  0.02729   0.0   7.07   0.0  0.469  7.185  61.1  4.9671  2.0  242.0   \n",
       "3  0.03237   0.0   2.18   0.0  0.458  6.998  45.8  6.0622  3.0  222.0   \n",
       "4  0.06905   0.0   2.18   0.0  0.458  7.147  54.2  6.0622  3.0  222.0   \n",
       "\n",
       "   PTRATIO       B  LSTAT  MEDV  \n",
       "0     15.3  396.90   4.98  24.0  \n",
       "1     17.8  396.90   9.14  21.6  \n",
       "2     17.8  392.83   4.03  34.7  \n",
       "3     18.7  394.63   2.94  33.4  \n",
       "4     18.7  396.90   5.33  36.2  "
      ]
     },
     "execution_count": 32,
     "metadata": {},
     "output_type": "execute_result"
    }
   ],
   "source": [
    "#code borrowed from https://towardsdatascience.com/feature-selection-with-pandas-e3690ad8504b\n",
    "df[\"MEDV\"] = boston.target #defines the MEDV column of the dataframe\n",
    "X = df.drop(\"MEDV\",1)   #Feature Matrix\n",
    "y = df[\"MEDV\"]          #Target Variable\n",
    "df.head()#show first 5 rows of dataframe "
   ]
  },
  {
   "cell_type": "markdown",
   "metadata": {},
   "source": [
    "In order to better understand the data and any notable relationships it holds, I decided to utilise [Pandas in-built correlation coefficients](https://pandas.pydata.org/pandas-docs/stable/reference/api/pandas.DataFrame.corr.html) function to ascertain what statistical relationships exist between the variables - "
   ]
  },
  {
   "cell_type": "code",
   "execution_count": 33,
   "metadata": {},
   "outputs": [
    {
     "data": {
      "text/html": [
       "<div>\n",
       "<style scoped>\n",
       "    .dataframe tbody tr th:only-of-type {\n",
       "        vertical-align: middle;\n",
       "    }\n",
       "\n",
       "    .dataframe tbody tr th {\n",
       "        vertical-align: top;\n",
       "    }\n",
       "\n",
       "    .dataframe thead th {\n",
       "        text-align: right;\n",
       "    }\n",
       "</style>\n",
       "<table border=\"1\" class=\"dataframe\">\n",
       "  <thead>\n",
       "    <tr style=\"text-align: right;\">\n",
       "      <th></th>\n",
       "      <th>CRIM</th>\n",
       "      <th>ZN</th>\n",
       "      <th>INDUS</th>\n",
       "      <th>CHAS</th>\n",
       "      <th>NOX</th>\n",
       "      <th>RM</th>\n",
       "      <th>AGE</th>\n",
       "      <th>DIS</th>\n",
       "      <th>RAD</th>\n",
       "      <th>TAX</th>\n",
       "      <th>PTRATIO</th>\n",
       "      <th>B</th>\n",
       "      <th>LSTAT</th>\n",
       "      <th>MEDV</th>\n",
       "    </tr>\n",
       "  </thead>\n",
       "  <tbody>\n",
       "    <tr>\n",
       "      <th>CRIM</th>\n",
       "      <td>1.000000</td>\n",
       "      <td>-0.200469</td>\n",
       "      <td>0.406583</td>\n",
       "      <td>-0.055892</td>\n",
       "      <td>0.420972</td>\n",
       "      <td>-0.219247</td>\n",
       "      <td>0.352734</td>\n",
       "      <td>-0.379670</td>\n",
       "      <td>0.625505</td>\n",
       "      <td>0.582764</td>\n",
       "      <td>0.289946</td>\n",
       "      <td>-0.385064</td>\n",
       "      <td>0.455621</td>\n",
       "      <td>-0.388305</td>\n",
       "    </tr>\n",
       "    <tr>\n",
       "      <th>ZN</th>\n",
       "      <td>-0.200469</td>\n",
       "      <td>1.000000</td>\n",
       "      <td>-0.533828</td>\n",
       "      <td>-0.042697</td>\n",
       "      <td>-0.516604</td>\n",
       "      <td>0.311991</td>\n",
       "      <td>-0.569537</td>\n",
       "      <td>0.664408</td>\n",
       "      <td>-0.311948</td>\n",
       "      <td>-0.314563</td>\n",
       "      <td>-0.391679</td>\n",
       "      <td>0.175520</td>\n",
       "      <td>-0.412995</td>\n",
       "      <td>0.360445</td>\n",
       "    </tr>\n",
       "    <tr>\n",
       "      <th>INDUS</th>\n",
       "      <td>0.406583</td>\n",
       "      <td>-0.533828</td>\n",
       "      <td>1.000000</td>\n",
       "      <td>0.062938</td>\n",
       "      <td>0.763651</td>\n",
       "      <td>-0.391676</td>\n",
       "      <td>0.644779</td>\n",
       "      <td>-0.708027</td>\n",
       "      <td>0.595129</td>\n",
       "      <td>0.720760</td>\n",
       "      <td>0.383248</td>\n",
       "      <td>-0.356977</td>\n",
       "      <td>0.603800</td>\n",
       "      <td>-0.483725</td>\n",
       "    </tr>\n",
       "    <tr>\n",
       "      <th>CHAS</th>\n",
       "      <td>-0.055892</td>\n",
       "      <td>-0.042697</td>\n",
       "      <td>0.062938</td>\n",
       "      <td>1.000000</td>\n",
       "      <td>0.091203</td>\n",
       "      <td>0.091251</td>\n",
       "      <td>0.086518</td>\n",
       "      <td>-0.099176</td>\n",
       "      <td>-0.007368</td>\n",
       "      <td>-0.035587</td>\n",
       "      <td>-0.121515</td>\n",
       "      <td>0.048788</td>\n",
       "      <td>-0.053929</td>\n",
       "      <td>0.175260</td>\n",
       "    </tr>\n",
       "    <tr>\n",
       "      <th>NOX</th>\n",
       "      <td>0.420972</td>\n",
       "      <td>-0.516604</td>\n",
       "      <td>0.763651</td>\n",
       "      <td>0.091203</td>\n",
       "      <td>1.000000</td>\n",
       "      <td>-0.302188</td>\n",
       "      <td>0.731470</td>\n",
       "      <td>-0.769230</td>\n",
       "      <td>0.611441</td>\n",
       "      <td>0.668023</td>\n",
       "      <td>0.188933</td>\n",
       "      <td>-0.380051</td>\n",
       "      <td>0.590879</td>\n",
       "      <td>-0.427321</td>\n",
       "    </tr>\n",
       "    <tr>\n",
       "      <th>RM</th>\n",
       "      <td>-0.219247</td>\n",
       "      <td>0.311991</td>\n",
       "      <td>-0.391676</td>\n",
       "      <td>0.091251</td>\n",
       "      <td>-0.302188</td>\n",
       "      <td>1.000000</td>\n",
       "      <td>-0.240265</td>\n",
       "      <td>0.205246</td>\n",
       "      <td>-0.209847</td>\n",
       "      <td>-0.292048</td>\n",
       "      <td>-0.355501</td>\n",
       "      <td>0.128069</td>\n",
       "      <td>-0.613808</td>\n",
       "      <td>0.695360</td>\n",
       "    </tr>\n",
       "    <tr>\n",
       "      <th>AGE</th>\n",
       "      <td>0.352734</td>\n",
       "      <td>-0.569537</td>\n",
       "      <td>0.644779</td>\n",
       "      <td>0.086518</td>\n",
       "      <td>0.731470</td>\n",
       "      <td>-0.240265</td>\n",
       "      <td>1.000000</td>\n",
       "      <td>-0.747881</td>\n",
       "      <td>0.456022</td>\n",
       "      <td>0.506456</td>\n",
       "      <td>0.261515</td>\n",
       "      <td>-0.273534</td>\n",
       "      <td>0.602339</td>\n",
       "      <td>-0.376955</td>\n",
       "    </tr>\n",
       "    <tr>\n",
       "      <th>DIS</th>\n",
       "      <td>-0.379670</td>\n",
       "      <td>0.664408</td>\n",
       "      <td>-0.708027</td>\n",
       "      <td>-0.099176</td>\n",
       "      <td>-0.769230</td>\n",
       "      <td>0.205246</td>\n",
       "      <td>-0.747881</td>\n",
       "      <td>1.000000</td>\n",
       "      <td>-0.494588</td>\n",
       "      <td>-0.534432</td>\n",
       "      <td>-0.232471</td>\n",
       "      <td>0.291512</td>\n",
       "      <td>-0.496996</td>\n",
       "      <td>0.249929</td>\n",
       "    </tr>\n",
       "    <tr>\n",
       "      <th>RAD</th>\n",
       "      <td>0.625505</td>\n",
       "      <td>-0.311948</td>\n",
       "      <td>0.595129</td>\n",
       "      <td>-0.007368</td>\n",
       "      <td>0.611441</td>\n",
       "      <td>-0.209847</td>\n",
       "      <td>0.456022</td>\n",
       "      <td>-0.494588</td>\n",
       "      <td>1.000000</td>\n",
       "      <td>0.910228</td>\n",
       "      <td>0.464741</td>\n",
       "      <td>-0.444413</td>\n",
       "      <td>0.488676</td>\n",
       "      <td>-0.381626</td>\n",
       "    </tr>\n",
       "    <tr>\n",
       "      <th>TAX</th>\n",
       "      <td>0.582764</td>\n",
       "      <td>-0.314563</td>\n",
       "      <td>0.720760</td>\n",
       "      <td>-0.035587</td>\n",
       "      <td>0.668023</td>\n",
       "      <td>-0.292048</td>\n",
       "      <td>0.506456</td>\n",
       "      <td>-0.534432</td>\n",
       "      <td>0.910228</td>\n",
       "      <td>1.000000</td>\n",
       "      <td>0.460853</td>\n",
       "      <td>-0.441808</td>\n",
       "      <td>0.543993</td>\n",
       "      <td>-0.468536</td>\n",
       "    </tr>\n",
       "    <tr>\n",
       "      <th>PTRATIO</th>\n",
       "      <td>0.289946</td>\n",
       "      <td>-0.391679</td>\n",
       "      <td>0.383248</td>\n",
       "      <td>-0.121515</td>\n",
       "      <td>0.188933</td>\n",
       "      <td>-0.355501</td>\n",
       "      <td>0.261515</td>\n",
       "      <td>-0.232471</td>\n",
       "      <td>0.464741</td>\n",
       "      <td>0.460853</td>\n",
       "      <td>1.000000</td>\n",
       "      <td>-0.177383</td>\n",
       "      <td>0.374044</td>\n",
       "      <td>-0.507787</td>\n",
       "    </tr>\n",
       "    <tr>\n",
       "      <th>B</th>\n",
       "      <td>-0.385064</td>\n",
       "      <td>0.175520</td>\n",
       "      <td>-0.356977</td>\n",
       "      <td>0.048788</td>\n",
       "      <td>-0.380051</td>\n",
       "      <td>0.128069</td>\n",
       "      <td>-0.273534</td>\n",
       "      <td>0.291512</td>\n",
       "      <td>-0.444413</td>\n",
       "      <td>-0.441808</td>\n",
       "      <td>-0.177383</td>\n",
       "      <td>1.000000</td>\n",
       "      <td>-0.366087</td>\n",
       "      <td>0.333461</td>\n",
       "    </tr>\n",
       "    <tr>\n",
       "      <th>LSTAT</th>\n",
       "      <td>0.455621</td>\n",
       "      <td>-0.412995</td>\n",
       "      <td>0.603800</td>\n",
       "      <td>-0.053929</td>\n",
       "      <td>0.590879</td>\n",
       "      <td>-0.613808</td>\n",
       "      <td>0.602339</td>\n",
       "      <td>-0.496996</td>\n",
       "      <td>0.488676</td>\n",
       "      <td>0.543993</td>\n",
       "      <td>0.374044</td>\n",
       "      <td>-0.366087</td>\n",
       "      <td>1.000000</td>\n",
       "      <td>-0.737663</td>\n",
       "    </tr>\n",
       "    <tr>\n",
       "      <th>MEDV</th>\n",
       "      <td>-0.388305</td>\n",
       "      <td>0.360445</td>\n",
       "      <td>-0.483725</td>\n",
       "      <td>0.175260</td>\n",
       "      <td>-0.427321</td>\n",
       "      <td>0.695360</td>\n",
       "      <td>-0.376955</td>\n",
       "      <td>0.249929</td>\n",
       "      <td>-0.381626</td>\n",
       "      <td>-0.468536</td>\n",
       "      <td>-0.507787</td>\n",
       "      <td>0.333461</td>\n",
       "      <td>-0.737663</td>\n",
       "      <td>1.000000</td>\n",
       "    </tr>\n",
       "  </tbody>\n",
       "</table>\n",
       "</div>"
      ],
      "text/plain": [
       "             CRIM        ZN     INDUS      CHAS       NOX        RM       AGE  \\\n",
       "CRIM     1.000000 -0.200469  0.406583 -0.055892  0.420972 -0.219247  0.352734   \n",
       "ZN      -0.200469  1.000000 -0.533828 -0.042697 -0.516604  0.311991 -0.569537   \n",
       "INDUS    0.406583 -0.533828  1.000000  0.062938  0.763651 -0.391676  0.644779   \n",
       "CHAS    -0.055892 -0.042697  0.062938  1.000000  0.091203  0.091251  0.086518   \n",
       "NOX      0.420972 -0.516604  0.763651  0.091203  1.000000 -0.302188  0.731470   \n",
       "RM      -0.219247  0.311991 -0.391676  0.091251 -0.302188  1.000000 -0.240265   \n",
       "AGE      0.352734 -0.569537  0.644779  0.086518  0.731470 -0.240265  1.000000   \n",
       "DIS     -0.379670  0.664408 -0.708027 -0.099176 -0.769230  0.205246 -0.747881   \n",
       "RAD      0.625505 -0.311948  0.595129 -0.007368  0.611441 -0.209847  0.456022   \n",
       "TAX      0.582764 -0.314563  0.720760 -0.035587  0.668023 -0.292048  0.506456   \n",
       "PTRATIO  0.289946 -0.391679  0.383248 -0.121515  0.188933 -0.355501  0.261515   \n",
       "B       -0.385064  0.175520 -0.356977  0.048788 -0.380051  0.128069 -0.273534   \n",
       "LSTAT    0.455621 -0.412995  0.603800 -0.053929  0.590879 -0.613808  0.602339   \n",
       "MEDV    -0.388305  0.360445 -0.483725  0.175260 -0.427321  0.695360 -0.376955   \n",
       "\n",
       "              DIS       RAD       TAX   PTRATIO         B     LSTAT      MEDV  \n",
       "CRIM    -0.379670  0.625505  0.582764  0.289946 -0.385064  0.455621 -0.388305  \n",
       "ZN       0.664408 -0.311948 -0.314563 -0.391679  0.175520 -0.412995  0.360445  \n",
       "INDUS   -0.708027  0.595129  0.720760  0.383248 -0.356977  0.603800 -0.483725  \n",
       "CHAS    -0.099176 -0.007368 -0.035587 -0.121515  0.048788 -0.053929  0.175260  \n",
       "NOX     -0.769230  0.611441  0.668023  0.188933 -0.380051  0.590879 -0.427321  \n",
       "RM       0.205246 -0.209847 -0.292048 -0.355501  0.128069 -0.613808  0.695360  \n",
       "AGE     -0.747881  0.456022  0.506456  0.261515 -0.273534  0.602339 -0.376955  \n",
       "DIS      1.000000 -0.494588 -0.534432 -0.232471  0.291512 -0.496996  0.249929  \n",
       "RAD     -0.494588  1.000000  0.910228  0.464741 -0.444413  0.488676 -0.381626  \n",
       "TAX     -0.534432  0.910228  1.000000  0.460853 -0.441808  0.543993 -0.468536  \n",
       "PTRATIO -0.232471  0.464741  0.460853  1.000000 -0.177383  0.374044 -0.507787  \n",
       "B        0.291512 -0.444413 -0.441808 -0.177383  1.000000 -0.366087  0.333461  \n",
       "LSTAT   -0.496996  0.488676  0.543993  0.374044 -0.366087  1.000000 -0.737663  \n",
       "MEDV     0.249929 -0.381626 -0.468536 -0.507787  0.333461 -0.737663  1.000000  "
      ]
     },
     "execution_count": 33,
     "metadata": {},
     "output_type": "execute_result"
    }
   ],
   "source": [
    "df.corr()#calculates correlation coefficients"
   ]
  },
  {
   "cell_type": "markdown",
   "metadata": {},
   "source": [
    "To make this correlation matrix more accessible I thought it would be useful to plot it using Seaborn's heatmap to graphically represent these relationships, as recommended by [Abhini Shetye in her towardsdatascience.com blogpost - ](https://towardsdatascience.com/feature-selection-with-pandas-e3690ad8504b)"
   ]
  },
  {
   "cell_type": "code",
   "execution_count": 34,
   "metadata": {},
   "outputs": [
    {
     "data": {
      "image/png": "[encoded data removed]",
      "text/plain": [
       "<Figure size 864x720 with 2 Axes>"
      ]
     },
     "metadata": {
      "needs_background": "light"
     },
     "output_type": "display_data"
    }
   ],
   "source": [
    "#https://towardsdatascience.com/feature-selection-with-pandas-e3690ad8504b\n",
    "plt.figure(figsize=(12,10))#sets size of graph\n",
    "cor = df.corr() #defines variable called cor that consists of correlation coefficients of dataframe\n",
    "sns.heatmap(cor, annot=True, cmap=plt.cm.Reds)#calls Seaborn to graph a heatmap\n",
    "plt.show()#calls Pyplot to show heatmap"
   ]
  },
  {
   "cell_type": "markdown",
   "metadata": {},
   "source": [
    "The strongest correlation with the target variable according to the above graph is with \"RM\", and there are strong negative correlations with \"LSTAT\" and \"PTRATIO\".  The variable with the least correlation to the target is \"CHAS\". To better describe the relationship between these attributes I decided to generate a [pairplot](https://seaborn.pydata.org/generated/seaborn.pairplot.html) to visualise how they interact with each other. "
   ]
  },
  {
   "cell_type": "code",
   "execution_count": 35,
   "metadata": {},
   "outputs": [
    {
     "data": {
      "text/plain": [
       "<seaborn.axisgrid.PairGrid at 0x1e43edc0a58>"
      ]
     },
     "execution_count": 35,
     "metadata": {},
     "output_type": "execute_result"
    },
    {
     "data": {
      "image/png": "[encoded data removed]",
      "text/plain": [
       "<Figure size 720x720 with 20 Axes>"
      ]
     },
     "metadata": {
      "needs_background": "light"
     },
     "output_type": "display_data"
    }
   ],
   "source": [
    "sns.pairplot(df, vars=[\"LSTAT\", \"RM\", \"CHAS\", \"MEDV\"])"
   ]
  },
  {
   "cell_type": "markdown",
   "metadata": {},
   "source": [
    "We can see that the target variable - MEDV - is normally distributed with some outliers, as per the histogram in the bottom left of the above graph.\n",
    "\n",
    "It is possible to also use the [describe function](https://docs.scipy.org/doc/scipy/reference/generated/scipy.stats.mstats.describe.html?highlight=descriptive) from scipy.stats to outline some descriptive statistics of the Boston data.  This function computes the size of the data (nobs), the min and max, the kurtosis([measure that describes the distribution](https://www.investopedia.com/terms/k/kurtosis.asp), the skewness([where the curve in a distribution appears distorted or skews to the left or right](https://whatis.techtarget.com/definition/skewness)), the mean and the variance([measures how far each number in the set is from the mean and therefore from every other number in the set](https://www.investopedia.com/terms/v/variance.asp) of each variable in the data set and returns this information in an array - "
   ]
  },
  {
   "cell_type": "code",
   "execution_count": 36,
   "metadata": {},
   "outputs": [
    {
     "name": "stderr",
     "output_type": "stream",
     "text": [
      "C:\\Users\\Aideen and Ken\\Anaconda\\lib\\site-packages\\scipy\\stats\\mstats_basic.py:2300: MaskedArrayFutureWarning: In the future the default for ma.minimum.reduce will be axis=0, not the current None, to match np.minimum.reduce. Explicitly pass 0 or None to silence this warning.\n",
      "  mm = (ma.minimum.reduce(a), ma.maximum.reduce(a))\n",
      "C:\\Users\\Aideen and Ken\\Anaconda\\lib\\site-packages\\scipy\\stats\\mstats_basic.py:2300: MaskedArrayFutureWarning: In the future the default for ma.maximum.reduce will be axis=0, not the current None, to match np.maximum.reduce. Explicitly pass 0 or None to silence this warning.\n",
      "  mm = (ma.minimum.reduce(a), ma.maximum.reduce(a))\n"
     ]
    },
    {
     "data": {
      "text/plain": [
       "DescribeResult(nobs=array([506, 506, 506, 506, 506, 506, 506, 506, 506, 506, 506, 506, 506,\n",
       "       506], dtype=int64), minmax=(masked_array(data=0.,\n",
       "             mask=False,\n",
       "       fill_value=1e+20), masked_array(data=711.,\n",
       "             mask=False,\n",
       "       fill_value=1e+20)), mean=masked_array(data=[3.61352356e+00, 1.13636364e+01, 1.11367787e+01,\n",
       "                   6.91699605e-02, 5.54695059e-01, 6.28463439e+00,\n",
       "                   6.85749012e+01, 3.79504269e+00, 9.54940711e+00,\n",
       "                   4.08237154e+02, 1.84555336e+01, 3.56674032e+02,\n",
       "                   1.26530632e+01, 2.25328063e+01],\n",
       "             mask=False,\n",
       "       fill_value=1e+20), variance=masked_array(data=[7.38403597e+01, 5.42861840e+02, 4.69714297e+01,\n",
       "                   6.43854770e-02, 1.34010989e-02, 4.92695216e-01,\n",
       "                   7.90792473e+02, 4.42525226e+00, 7.56665313e+01,\n",
       "                   2.83486236e+04, 4.67772630e+00, 8.31828042e+03,\n",
       "                   5.08939794e+01, 8.44195562e+01],\n",
       "             mask=False,\n",
       "       fill_value=1e+20), skewness=masked_array(data=[ 5.20765239,  2.21906306,  0.29414628,  3.39579929,\n",
       "                    0.72714416,  0.40241467, -0.59718559,  1.00877876,\n",
       "                    1.00183349,  0.66796827, -0.79994453, -2.88179835,\n",
       "                    0.90377074,  1.10481082],\n",
       "             mask=False,\n",
       "       fill_value=1e+20), kurtosis=masked_array(data=[36.75278626,  3.97994877, -1.23321847,  9.53145284,\n",
       "                   -0.07586422,  1.86102697, -0.97001393,  0.47129857,\n",
       "                   -0.8705205 , -1.14298488, -0.29411638,  7.14376929,\n",
       "                    0.47654476,  1.46862877],\n",
       "             mask=False,\n",
       "       fill_value=1e+20))"
      ]
     },
     "execution_count": 36,
     "metadata": {},
     "output_type": "execute_result"
    }
   ],
   "source": [
    "from scipy.stats.mstats import describe #imports scipy stats package\n",
    "describe(df)#returns descriptive statistics of dataframe"
   ]
  },
  {
   "cell_type": "markdown",
   "metadata": {},
   "source": [
    "## Inferential Statistics\n",
    "Inferential statistics differ from descriptive statistics in that rather than summarise the data, they are used to prove, or infer, certain theories about it - for example, [testing a hyopthesis and using a sample of a population to infer a characteristic of that population](https://www.mymarketresearchmethods.com/descriptive-inferential-statistics-difference/). Examples of this kind of statistics are t-tests, regression and ANOVA, all of which I will attempt to explore as part of this project. \n",
    "\n",
    "By selecting the 2 relevant columns for the purposes of completing this part of the assignment - CHAS (whether houses are situated along the Charles River or not) and MEDV (the median house prices) - and adding them to their own Pandas dataframe it is possible to begin interpreting any statistical relationship between these variables.  As proximity of houses to the river is denoted in the CHAS column with a \"1\" and conversely, \"0\" for those not along the river, I needed to find a method of sorting the data to demonstrate this, and also, the relationship that houses with an entry of \"1\" have with the median house value.  I found [this blog post](https://towardsdatascience.com/5-minute-guide-to-plotting-with-pandas-e8c0f40a1df4) that details how to create a pivot table with Pandas to calculate the mean value for each category and subsequently plot the results with a bar plot - "
   ]
  },
  {
   "cell_type": "code",
   "execution_count": 37,
   "metadata": {},
   "outputs": [
    {
     "data": {
      "text/html": [
       "<div>\n",
       "<style scoped>\n",
       "    .dataframe tbody tr th:only-of-type {\n",
       "        vertical-align: middle;\n",
       "    }\n",
       "\n",
       "    .dataframe tbody tr th {\n",
       "        vertical-align: top;\n",
       "    }\n",
       "\n",
       "    .dataframe thead th {\n",
       "        text-align: right;\n",
       "    }\n",
       "</style>\n",
       "<table border=\"1\" class=\"dataframe\">\n",
       "  <thead>\n",
       "    <tr style=\"text-align: right;\">\n",
       "      <th></th>\n",
       "      <th>MEDV</th>\n",
       "    </tr>\n",
       "    <tr>\n",
       "      <th>CHAS</th>\n",
       "      <th></th>\n",
       "    </tr>\n",
       "  </thead>\n",
       "  <tbody>\n",
       "    <tr>\n",
       "      <th>0.0</th>\n",
       "      <td>22.093843</td>\n",
       "    </tr>\n",
       "    <tr>\n",
       "      <th>1.0</th>\n",
       "      <td>28.440000</td>\n",
       "    </tr>\n",
       "  </tbody>\n",
       "</table>\n",
       "</div>"
      ],
      "text/plain": [
       "           MEDV\n",
       "CHAS           \n",
       "0.0   22.093843\n",
       "1.0   28.440000"
      ]
     },
     "execution_count": 37,
     "metadata": {},
     "output_type": "execute_result"
    }
   ],
   "source": [
    "columns = [\"CHAS\", \"MEDV\"]#declare a variable called columns containing the 2 relevant variables\n",
    "df1 = pd.DataFrame(df, columns=columns)#create a new dataframe of just these 2 columns \n",
    "#below code borrowed from https://towardsdatascience.com/5-minute-guide-to-plotting-with-pandas-e8c0f40a1df4\n",
    "pivot = pd.pivot_table(df1, values='MEDV', index=['CHAS'])#define pivot table values and index \n",
    "pivot #display pivot table"
   ]
  },
  {
   "cell_type": "code",
   "execution_count": 38,
   "metadata": {},
   "outputs": [
    {
     "data": {
      "image/png": "[encoded data removed]",
      "text/plain": [
       "<Figure size 432x288 with 1 Axes>"
      ]
     },
     "metadata": {
      "needs_background": "light"
     },
     "output_type": "display_data"
    }
   ],
   "source": [
    "pivot.plot(kind='bar')#plot bar chart of pivot\n",
    "plt.show()"
   ]
  },
  {
   "cell_type": "markdown",
   "metadata": {},
   "source": [
    "We can see from the above bar chart that houses that are situated along the river have a higher price than those that are not. I wanted to further demonstrate the relationship between properties on the river and their price by isolating the values where site was denoted with a \"1\" in the CHAS column, and chose to do this using the [.loc function](https://pandas.pydata.org/pandas-docs/stable/reference/api/pandas.DataFrame.loc.html) in Pandas to create a dataframe called \"onriver\", and then, using the [count function in Pandas](https://pandas.pydata.org/pandas-docs/version/0.23/generated/pandas.DataFrame.count.html) to ascertain how many houses in the dataset belong in this group. To ensure accuracy I thought it would be best to also create a \"notonriver\" dataframe, to provide confirmation that the entire dataset is represented. "
   ]
  },
  {
   "cell_type": "code",
   "execution_count": 39,
   "metadata": {},
   "outputs": [
    {
     "data": {
      "text/plain": [
       "CHAS    35\n",
       "MEDV    35\n",
       "dtype: int64"
      ]
     },
     "execution_count": 39,
     "metadata": {},
     "output_type": "execute_result"
    }
   ],
   "source": [
    "onriver = df1.loc[df['CHAS'] == 1]#create dataframe named onriver where entries in CHAS variable are 1\n",
    "onriver.count()#perform count operation on the onriver dataframe"
   ]
  },
  {
   "cell_type": "code",
   "execution_count": 40,
   "metadata": {},
   "outputs": [
    {
     "data": {
      "text/plain": [
       "CHAS    471\n",
       "MEDV    471\n",
       "dtype: int64"
      ]
     },
     "execution_count": 40,
     "metadata": {},
     "output_type": "execute_result"
    }
   ],
   "source": [
    "notonriver = df1.loc[df['CHAS'] == 0]#create dataframe named notonriver where entries in CHAS variable are 0\n",
    "notonriver.count()#perform count operation on the notonriver dataframe"
   ]
  },
  {
   "cell_type": "markdown",
   "metadata": {},
   "source": [
    "From these counts we can see that there are 35 houses in the dataset that bound the river and 471 that do not, totalling 506 properties as per the full dataset. \n",
    "To better understand if there are significant differences between the value of properties on the river and those that are not I wanted to plot the 2 distinct categories for median house price against each other -  "
   ]
  },
  {
   "cell_type": "code",
   "execution_count": 41,
   "metadata": {},
   "outputs": [
    {
     "data": {
      "image/png": "[encoded data removed]",
      "text/plain": [
       "<Figure size 432x288 with 1 Axes>"
      ]
     },
     "metadata": {
      "needs_background": "light"
     },
     "output_type": "display_data"
    }
   ],
   "source": [
    "r = onriver['CHAS'] #isolating if houses are on river\n",
    "t = onriver['MEDV'] #corresponding value for price on river\n",
    "p = notonriver['CHAS'] #isolating if houses are not on river\n",
    "q = notonriver['MEDV'] #corresponding value for price not on river\n",
    "plt.plot(t,'o', label='on river')\n",
    "plt.plot(q, 'y', label='not on river')\n",
    "plt.legend()\n",
    "plt.show()"
   ]
  },
  {
   "cell_type": "markdown",
   "metadata": {},
   "source": [
    "The above graph suggests that in some cases there is a significant difference in median prices for houses on the river, but that the majority of the data points denoting this condition are positioned in the middle of the graph, which suggests that proximity to the Charles river is not a clear indication of house value. \n",
    "\n",
    "### Linear Regression\n",
    "Using the [linregress function from scipy.stats](https://docs.scipy.org/doc/scipy/reference/generated/scipy.stats.linregress.html?highlight=linear%20regression) it is possible to calcuate the linear least squares regression for the 2 variables, and in turn, plot the findings."
   ]
  },
  {
   "cell_type": "code",
   "execution_count": 42,
   "metadata": {},
   "outputs": [
    {
     "name": "stdout",
     "output_type": "stream",
     "text": [
      "slope: 6.346157  intercept: 22.093843  r_value: 0.175260  p_value: 0.000074  std_err: 1.587954\n"
     ]
    },
    {
     "data": {
      "image/png": "[encoded data removed]",
      "text/plain": [
       "<Figure size 432x288 with 1 Axes>"
      ]
     },
     "metadata": {
      "needs_background": "light"
     },
     "output_type": "display_data"
    }
   ],
   "source": [
    "x = df['CHAS']#independent variable\n",
    "y = df['MEDV']#dependent variable\n",
    "# Get slope, intercept from linregress() to plot y' = intercept + slope*x\n",
    "slope, intercept, r_value, p_value, std_err = ss.linregress(x, y)\n",
    "print(\"slope: %f  intercept: %f  r_value: %f  p_value: %f  std_err: %f\" % (slope, intercept, r_value, p_value, std_err))\n",
    "#plot the data with fitted line\n",
    "plt.plot(x, y,'o', label='original data')\n",
    "plt.plot(x, intercept + slope*x, 'r', label='fitted line')\n",
    "plt.legend()\n",
    "plt.show()"
   ]
  },
  {
   "cell_type": "markdown",
   "metadata": {},
   "source": [
    "As the above graph shows, the median value rises for properties that bound the river, as the slope of the line represents the increasing MEDV attribute along the x axis, therefore proving the increase in price.  \n",
    "\n",
    "### Independent T-test\n",
    "As CHAS is a [dichotomous variable](https://statistics.laerd.com/statistical-guides/types-of-variable.php) it may be the case that an [independent t-test](https://statistics.laerd.com/spss-tutorials/independent-t-test-using-spss-statistics.php) could be a good interpretation of any statistical significance between these variables.  This test is used to test [for a significant difference between the mean of two independent (unrelated) groups](https://pythonfordatascience.org/independent-t-test-python/) and proposes the null hypothesis that the mean of sample 1 is equal to the mean of sample 2. This can be tested using the [independent t-test function available in scipy.stats](https://docs.scipy.org/doc/scipy/reference/generated/scipy.stats.ttest_ind.html), which will return both the calculated t-statistic and the two-tailed p-value. Testing the CHAS and MEDV variables in this way gives the following result - "
   ]
  },
  {
   "cell_type": "code",
   "execution_count": 43,
   "metadata": {},
   "outputs": [
    {
     "data": {
      "text/plain": [
       "Ttest_indResult(statistic=-13.7380155395527, pvalue=2.7015872471386418e-21)"
      ]
     },
     "execution_count": 43,
     "metadata": {},
     "output_type": "execute_result"
    }
   ],
   "source": [
    "r = onriver['CHAS'] #labelling CHAS variable as x\n",
    "t = onriver['MEDV'] #labelling MEDV variable as y\n",
    "#using Scipy.stats' independent t-test function on x and y\n",
    "ss.ttest_ind(r, t)"
   ]
  },
  {
   "cell_type": "code",
   "execution_count": 44,
   "metadata": {},
   "outputs": [
    {
     "data": {
      "text/plain": [
       "Ttest_indResult(statistic=-54.294271186009965, pvalue=4.796256602271557e-292)"
      ]
     },
     "execution_count": 44,
     "metadata": {},
     "output_type": "execute_result"
    }
   ],
   "source": [
    "p = notonriver['CHAS']\n",
    "q = notonriver['MEDV']\n",
    "ss.ttest_ind(p,q)"
   ]
  },
  {
   "cell_type": "markdown",
   "metadata": {},
   "source": [
    "This result can allow us to reject the null hypothesis as stated above. Following on from this, I wondered what would be the outcome of performing the same test on values from the variable that denotes if houses are on the river or not on the river - "
   ]
  },
  {
   "cell_type": "code",
   "execution_count": 45,
   "metadata": {},
   "outputs": [
    {
     "data": {
      "text/plain": [
       "Ttest_indResult(statistic=3.996437466090509, pvalue=7.390623170519905e-05)"
      ]
     },
     "execution_count": 45,
     "metadata": {},
     "output_type": "execute_result"
    }
   ],
   "source": [
    "o = onriver['MEDV']#selects values from MEDV Variable that are on river\n",
    "n = notonriver['MEDV']#selects values from MEDV variable that are not on river\n",
    "ss.ttest_ind(o,n)"
   ]
  },
  {
   "cell_type": "markdown",
   "metadata": {},
   "source": [
    "Again, as the result of the pvalue is relatively high we can reject the null hypothesis on this basis also. \n",
    "\n",
    "### ANOVA\n",
    "ANOVA means \"analysis of variance\" and [\"can be thought of as an extension to the t-test\"](https://pythonfordatascience.org/anova-python/), in that it is used to extend the functions of the t-test beyond 2 groups,by comparing the means of all groups to determine [\"whether any of those means are statistically significantly different from each other\"](https://statistics.laerd.com/statistical-guides/one-way-anova-statistical-guide.php) I decided to apply this test using the [f_oneway function in scipy.stats](https://docs.scipy.org/doc/scipy/reference/generated/scipy.stats.f_oneway.html) with the variables representing the entire MEDV column together with the s"
   ]
  },
  {
   "cell_type": "code",
   "execution_count": 46,
   "metadata": {},
   "outputs": [
    {
     "data": {
      "text/plain": [
       "F_onewayResult(statistic=array([1.12836294e+15, 1.59715124e+01]), pvalue=array([0.00000000e+00, 7.39062317e-05]))"
      ]
     },
     "execution_count": 46,
     "metadata": {},
     "output_type": "execute_result"
    }
   ],
   "source": [
    "ss.f_oneway(onriver, notonriver)"
   ]
  },
  {
   "cell_type": "markdown",
   "metadata": {},
   "source": [
    "# Predicting "
   ]
  },
  {
   "cell_type": "markdown",
   "metadata": {},
   "source": [
    "In Machine Learning,[neural networks](https://en.wikipedia.org/wiki/Neural_network) are sets of computer algorithms that are designed to replicate the functions of biological circuits of neurons in a simplified way. Their purpose is to recognise patterns and they can be trained with numerical datsets to interpret, learn and subsequently make predictions based on these patterns. Neural networks can be used for among other things, image processing and recognition, data validation, financial and economic forecasting and industrial diagnostic systems.\n",
    "\n",
    "For this assignment, I will use the [Keras](https://keras.io/) deep learning library for Python (imported as kr) to build layers of neurons with the [Sequential model](https://keras.io/getting-started/sequential-model-guide/).  Keras incorporates Theano and TensorFlow through its backend, both mathematical machine learning platforms, and allows for less complex user engagement through its high level frontend API. \n",
    "\n",
    "To begin with, the Boston data needs to be split into input variables (which are fed to the learning algorithm to train it) and an output variable (which is the predictive data we want the algorithm to produce), in this case, the median house price variable. Then, I will begin creating a neural network to attempt to predict this. This is where the Sequential model will be used to configure the model for training. "
   ]
  },
  {
   "cell_type": "code",
   "execution_count": 47,
   "metadata": {},
   "outputs": [],
   "source": [
    "#https://machinelearningmastery.com/regression-tutorial-keras-deep-learning-library-python/\n",
    "#https://keras.io/\n",
    "\n",
    "# Split the dataset into input variables (x) and output variable (y)\n",
    "x = df.iloc[:, 0:13] #selects first 13 columns of dataset\n",
    "y = df['MEDV'] #selects target variable\n",
    "\n",
    "# Create a neural network and configure model for training \n",
    "m = kr.models.Sequential()\n",
    "m.add(kr.layers.Dense(13, input_dim=13, activation='relu'))\n",
    "m.add(kr.layers.Dense(1, activation='linear'))\n",
    "m.compile(loss=\"mean_squared_error\", optimizer=\"adam\")\n",
    "\n"
   ]
  },
  {
   "cell_type": "markdown",
   "metadata": {},
   "source": [
    "It is then necessary to create \"train\" and \"test\" models of these variables by splitting them into categories representing each."
   ]
  },
  {
   "cell_type": "code",
   "execution_count": 48,
   "metadata": {},
   "outputs": [],
   "source": [
    "# Define train and test models\n",
    "x_train, x_test, y_train, y_test = mod.train_test_split(x, y, test_size=0.3)"
   ]
  },
  {
   "cell_type": "code",
   "execution_count": 55,
   "metadata": {},
   "outputs": [
    {
     "name": "stdout",
     "output_type": "stream",
     "text": [
      "Epoch 1/100\n",
      "152/152 [==============================] - 0s 341us/step - loss: 518490.3316\n",
      "Epoch 2/100\n",
      "152/152 [==============================] - 0s 348us/step - loss: 38445.6439\n",
      "Epoch 3/100\n",
      "152/152 [==============================] - 0s 282us/step - loss: 34497.0649\n",
      "Epoch 4/100\n",
      "152/152 [==============================] - 0s 295us/step - loss: 31912.2540\n",
      "Epoch 5/100\n",
      "152/152 [==============================] - 0s 328us/step - loss: 29289.0692\n",
      "Epoch 6/100\n",
      "152/152 [==============================] - 0s 289us/step - loss: 27699.2193\n",
      "Epoch 7/100\n",
      "152/152 [==============================] - 0s 472us/step - loss: 25745.3232\n",
      "Epoch 8/100\n",
      "152/152 [==============================] - 0s 328us/step - loss: 24246.9861\n",
      "Epoch 9/100\n",
      "152/152 [==============================] - 0s 302us/step - loss: 22915.5760\n",
      "Epoch 10/100\n",
      "152/152 [==============================] - 0s 315us/step - loss: 21710.4746\n",
      "Epoch 11/100\n",
      "152/152 [==============================] - 0s 289us/step - loss: 20503.0204\n",
      "Epoch 12/100\n",
      "152/152 [==============================] - 0s 282us/step - loss: 19536.8145\n",
      "Epoch 13/100\n",
      "152/152 [==============================] - 0s 341us/step - loss: 18172.1988\n",
      "Epoch 14/100\n",
      "152/152 [==============================] - 0s 315us/step - loss: 17171.9559\n",
      "Epoch 15/100\n",
      "152/152 [==============================] - 0s 322us/step - loss: 16386.8802\n",
      "Epoch 16/100\n",
      "152/152 [==============================] - 0s 315us/step - loss: 15317.5204\n",
      "Epoch 17/100\n",
      "152/152 [==============================] - 0s 348us/step - loss: 14625.6695\n",
      "Epoch 18/100\n",
      "152/152 [==============================] - 0s 315us/step - loss: 13906.4146\n",
      "Epoch 19/100\n",
      "152/152 [==============================] - 0s 315us/step - loss: 13166.6205\n",
      "Epoch 20/100\n",
      "152/152 [==============================] - 0s 302us/step - loss: 12568.2157\n",
      "Epoch 21/100\n",
      "152/152 [==============================] - 0s 381us/step - loss: 11905.8635\n",
      "Epoch 22/100\n",
      "152/152 [==============================] - 0s 335us/step - loss: 11599.3102\n",
      "Epoch 23/100\n",
      "152/152 [==============================] - 0s 322us/step - loss: 10823.4698\n",
      "Epoch 24/100\n",
      "152/152 [==============================] - 0s 322us/step - loss: 10329.0535\n",
      "Epoch 25/100\n",
      "152/152 [==============================] - 0s 335us/step - loss: 9848.8783\n",
      "Epoch 26/100\n",
      "152/152 [==============================] - 0s 335us/step - loss: 9456.7318\n",
      "Epoch 27/100\n",
      "152/152 [==============================] - 0s 295us/step - loss: 8896.2738\n",
      "Epoch 28/100\n",
      "152/152 [==============================] - 0s 308us/step - loss: 8493.6318\n",
      "Epoch 29/100\n",
      "152/152 [==============================] - 0s 335us/step - loss: 8157.6809\n",
      "Epoch 30/100\n",
      "152/152 [==============================] - 0s 341us/step - loss: 7757.3366\n",
      "Epoch 31/100\n",
      "152/152 [==============================] - 0s 354us/step - loss: 7479.1382\n",
      "Epoch 32/100\n",
      "152/152 [==============================] - 0s 381us/step - loss: 7142.1856\n",
      "Epoch 33/100\n",
      "152/152 [==============================] - 0s 321us/step - loss: 6809.1298\n",
      "Epoch 34/100\n",
      "152/152 [==============================] - 0s 308us/step - loss: 6473.2116\n",
      "Epoch 35/100\n",
      "152/152 [==============================] - 0s 308us/step - loss: 6153.6827\n",
      "Epoch 36/100\n",
      "152/152 [==============================] - 0s 321us/step - loss: 5860.4484\n",
      "Epoch 37/100\n",
      "152/152 [==============================] - 0s 335us/step - loss: 5598.4082\n",
      "Epoch 38/100\n",
      "152/152 [==============================] - 0s 348us/step - loss: 5376.0478\n",
      "Epoch 39/100\n",
      "152/152 [==============================] - 0s 328us/step - loss: 5131.8897\n",
      "Epoch 40/100\n",
      "152/152 [==============================] - 0s 322us/step - loss: 4940.5015\n",
      "Epoch 41/100\n",
      "152/152 [==============================] - 0s 308us/step - loss: 4749.8505\n",
      "Epoch 42/100\n",
      "152/152 [==============================] - 0s 335us/step - loss: 4525.0677\n",
      "Epoch 43/100\n",
      "152/152 [==============================] - 0s 308us/step - loss: 4331.1802\n",
      "Epoch 44/100\n",
      "152/152 [==============================] - 0s 348us/step - loss: 4155.9438\n",
      "Epoch 45/100\n",
      "152/152 [==============================] - 0s 328us/step - loss: 3968.9561\n",
      "Epoch 46/100\n",
      "152/152 [==============================] - 0s 394us/step - loss: 3826.4004\n",
      "Epoch 47/100\n",
      "152/152 [==============================] - 0s 321us/step - loss: 3662.1943\n",
      "Epoch 48/100\n",
      "152/152 [==============================] - 0s 374us/step - loss: 3482.4205\n",
      "Epoch 49/100\n",
      "152/152 [==============================] - 0s 387us/step - loss: 3388.6269\n",
      "Epoch 50/100\n",
      "152/152 [==============================] - 0s 315us/step - loss: 3169.5844\n",
      "Epoch 51/100\n",
      "152/152 [==============================] - 0s 407us/step - loss: 3063.8138\n",
      "Epoch 52/100\n",
      "152/152 [==============================] - 0s 381us/step - loss: 2943.4478\n",
      "Epoch 53/100\n",
      "152/152 [==============================] - 0s 335us/step - loss: 2855.2028\n",
      "Epoch 54/100\n",
      "152/152 [==============================] - 0s 426us/step - loss: 2724.8553\n",
      "Epoch 55/100\n",
      "152/152 [==============================] - 0s 381us/step - loss: 2585.5509\n",
      "Epoch 56/100\n",
      "152/152 [==============================] - 0s 400us/step - loss: 2508.0079\n",
      "Epoch 57/100\n",
      "152/152 [==============================] - 0s 341us/step - loss: 2430.9433\n",
      "Epoch 58/100\n",
      "152/152 [==============================] - 0s 354us/step - loss: 2311.9573\n",
      "Epoch 59/100\n",
      "152/152 [==============================] - 0s 348us/step - loss: 2236.4931\n",
      "Epoch 60/100\n",
      "152/152 [==============================] - 0s 381us/step - loss: 2128.6662\n",
      "Epoch 61/100\n",
      "152/152 [==============================] - 0s 315us/step - loss: 2112.5179\n",
      "Epoch 62/100\n",
      "152/152 [==============================] - 0s 289us/step - loss: 1984.7708\n",
      "Epoch 63/100\n",
      "152/152 [==============================] - 0s 308us/step - loss: 1907.3630\n",
      "Epoch 64/100\n",
      "152/152 [==============================] - 0s 302us/step - loss: 1854.0997\n",
      "Epoch 65/100\n",
      "152/152 [==============================] - 0s 302us/step - loss: 1738.3851\n",
      "Epoch 66/100\n",
      "152/152 [==============================] - 0s 381us/step - loss: 1701.8219\n",
      "Epoch 67/100\n",
      "152/152 [==============================] - 0s 328us/step - loss: 1630.3588\n",
      "Epoch 68/100\n",
      "152/152 [==============================] - 0s 328us/step - loss: 1596.6484\n",
      "Epoch 69/100\n",
      "152/152 [==============================] - 0s 315us/step - loss: 1520.2005\n",
      "Epoch 70/100\n",
      "152/152 [==============================] - 0s 335us/step - loss: 1471.0985\n",
      "Epoch 71/100\n",
      "152/152 [==============================] - 0s 321us/step - loss: 1425.0900\n",
      "Epoch 72/100\n",
      "152/152 [==============================] - 0s 302us/step - loss: 1377.2988\n",
      "Epoch 73/100\n",
      "152/152 [==============================] - 0s 577us/step - loss: 1332.7841\n",
      "Epoch 74/100\n",
      "152/152 [==============================] - 0s 407us/step - loss: 1282.3541\n",
      "Epoch 75/100\n",
      "152/152 [==============================] - 0s 394us/step - loss: 1248.7035\n",
      "Epoch 76/100\n",
      "152/152 [==============================] - 0s 341us/step - loss: 1203.6702\n",
      "Epoch 77/100\n",
      "152/152 [==============================] - 0s 295us/step - loss: 1156.2617\n",
      "Epoch 78/100\n",
      "152/152 [==============================] - 0s 328us/step - loss: 1129.1881\n",
      "Epoch 79/100\n",
      "152/152 [==============================] - 0s 295us/step - loss: 1099.0796\n",
      "Epoch 80/100\n",
      "152/152 [==============================] - 0s 367us/step - loss: 1079.2185\n",
      "Epoch 81/100\n",
      "152/152 [==============================] - 0s 407us/step - loss: 1032.6950\n",
      "Epoch 82/100\n",
      "152/152 [==============================] - 0s 328us/step - loss: 993.3610\n",
      "Epoch 83/100\n",
      "152/152 [==============================] - 0s 289us/step - loss: 976.8577\n",
      "Epoch 84/100\n",
      "152/152 [==============================] - 0s 289us/step - loss: 954.1087\n",
      "Epoch 85/100\n",
      "152/152 [==============================] - 0s 341us/step - loss: 913.7429\n",
      "Epoch 86/100\n",
      "152/152 [==============================] - 0s 302us/step - loss: 918.6455\n",
      "Epoch 87/100\n",
      "152/152 [==============================] - 0s 302us/step - loss: 870.2969\n",
      "Epoch 88/100\n",
      "152/152 [==============================] - 0s 335us/step - loss: 836.5004\n",
      "Epoch 89/100\n",
      "152/152 [==============================] - 0s 282us/step - loss: 843.9933\n",
      "Epoch 90/100\n",
      "152/152 [==============================] - 0s 387us/step - loss: 819.1556\n",
      "Epoch 91/100\n",
      "152/152 [==============================] - 0s 400us/step - loss: 779.0443\n",
      "Epoch 92/100\n",
      "152/152 [==============================] - 0s 335us/step - loss: 758.7730\n",
      "Epoch 93/100\n",
      "152/152 [==============================] - 0s 328us/step - loss: 721.3566\n",
      "Epoch 94/100\n"
     ]
    },
    {
     "name": "stdout",
     "output_type": "stream",
     "text": [
      "152/152 [==============================] - 0s 335us/step - loss: 704.9343\n",
      "Epoch 95/100\n",
      "152/152 [==============================] - 0s 394us/step - loss: 685.2331\n",
      "Epoch 96/100\n",
      "152/152 [==============================] - 0s 328us/step - loss: 685.9992\n",
      "Epoch 97/100\n",
      "152/152 [==============================] - 0s 315us/step - loss: 663.9817\n",
      "Epoch 98/100\n",
      "152/152 [==============================] - 0s 308us/step - loss: 642.5815\n",
      "Epoch 99/100\n",
      "152/152 [==============================] - 0s 295us/step - loss: 622.7840\n",
      "Epoch 100/100\n",
      "152/152 [==============================] - 0s 335us/step - loss: 613.1066\n"
     ]
    }
   ],
   "source": [
    "# Train the model\n",
    "m.fit(x_test, y_test, epochs=100, batch_size=5)\n",
    "\n",
    "# Run each x value through the neural network\n",
    "p = m.predict(x_test)"
   ]
  },
  {
   "cell_type": "code",
   "execution_count": 56,
   "metadata": {},
   "outputs": [
    {
     "name": "stdout",
     "output_type": "stream",
     "text": [
      "152/152 [==============================] - 0s 53us/step\n"
     ]
    },
    {
     "data": {
      "text/plain": [
       "583.4250841642681"
      ]
     },
     "execution_count": 56,
     "metadata": {},
     "output_type": "execute_result"
    }
   ],
   "source": [
    "m.evaluate(x_test, y_test)"
   ]
  },
  {
   "cell_type": "markdown",
   "metadata": {},
   "source": [
    "The [Scickit Learn maching learning library offers a preprocessing data function](https://scikit-learn.org/stable/modules/preprocessing.html) which transforms and standardises data to a type that is better handled by the learning algorithm. In effect, it can scale outliers and pre-processes data into a normalised, or Gaussian, distribution, therefore ensuring more accuracy in prediction. For comparative purposes, I will scale the Boston data before running it through Keras."
   ]
  },
  {
   "cell_type": "code",
   "execution_count": 57,
   "metadata": {},
   "outputs": [
    {
     "name": "stdout",
     "output_type": "stream",
     "text": [
      "Epoch 1/100\n",
      "152/152 [==============================] - 0s 525us/step - loss: 203.7923\n",
      "Epoch 2/100\n",
      "152/152 [==============================] - 0s 466us/step - loss: 183.5805\n",
      "Epoch 3/100\n",
      "152/152 [==============================] - 0s 426us/step - loss: 173.1739\n",
      "Epoch 4/100\n",
      "152/152 [==============================] - 0s 420us/step - loss: 167.0340\n",
      "Epoch 5/100\n",
      "152/152 [==============================] - 0s 427us/step - loss: 162.0619\n",
      "Epoch 6/100\n",
      "152/152 [==============================] - 0s 341us/step - loss: 157.5780\n",
      "Epoch 7/100\n",
      "152/152 [==============================] - 0s 308us/step - loss: 153.7113\n",
      "Epoch 8/100\n",
      "152/152 [==============================] - 0s 341us/step - loss: 149.8290\n",
      "Epoch 9/100\n",
      "152/152 [==============================] - 0s 328us/step - loss: 146.1808\n",
      "Epoch 10/100\n",
      "152/152 [==============================] - 0s 308us/step - loss: 142.7245\n",
      "Epoch 11/100\n",
      "152/152 [==============================] - 0s 308us/step - loss: 139.3237\n",
      "Epoch 12/100\n",
      "152/152 [==============================] - 0s 302us/step - loss: 136.0692\n",
      "Epoch 13/100\n",
      "152/152 [==============================] - 0s 374us/step - loss: 132.9375\n",
      "Epoch 14/100\n",
      "152/152 [==============================] - 0s 315us/step - loss: 129.9445\n",
      "Epoch 15/100\n",
      "152/152 [==============================] - 0s 308us/step - loss: 127.0336\n",
      "Epoch 16/100\n",
      "152/152 [==============================] - 0s 289us/step - loss: 124.2632\n",
      "Epoch 17/100\n",
      "152/152 [==============================] - 0s 308us/step - loss: 121.5720\n",
      "Epoch 18/100\n",
      "152/152 [==============================] - 0s 308us/step - loss: 118.9211\n",
      "Epoch 19/100\n",
      "152/152 [==============================] - 0s 328us/step - loss: 116.3437\n",
      "Epoch 20/100\n",
      "152/152 [==============================] - 0s 341us/step - loss: 113.8294\n",
      "Epoch 21/100\n",
      "152/152 [==============================] - 0s 302us/step - loss: 111.4096\n",
      "Epoch 22/100\n",
      "152/152 [==============================] - 0s 302us/step - loss: 109.0460\n",
      "Epoch 23/100\n",
      "152/152 [==============================] - 0s 328us/step - loss: 106.8000\n",
      "Epoch 24/100\n",
      "152/152 [==============================] - 0s 341us/step - loss: 104.6118\n",
      "Epoch 25/100\n",
      "152/152 [==============================] - 0s 341us/step - loss: 102.4482\n",
      "Epoch 26/100\n",
      "152/152 [==============================] - 0s 341us/step - loss: 100.3555\n",
      "Epoch 27/100\n",
      "152/152 [==============================] - 0s 341us/step - loss: 98.2986\n",
      "Epoch 28/100\n",
      "152/152 [==============================] - 0s 328us/step - loss: 96.2358\n",
      "Epoch 29/100\n",
      "152/152 [==============================] - 0s 341us/step - loss: 94.3375\n",
      "Epoch 30/100\n",
      "152/152 [==============================] - 0s 308us/step - loss: 92.6247\n",
      "Epoch 31/100\n",
      "152/152 [==============================] - 0s 295us/step - loss: 90.6034\n",
      "Epoch 32/100\n",
      "152/152 [==============================] - 0s 308us/step - loss: 88.8452\n",
      "Epoch 33/100\n",
      "152/152 [==============================] - 0s 328us/step - loss: 87.1676\n",
      "Epoch 34/100\n",
      "152/152 [==============================] - 0s 328us/step - loss: 85.4867\n",
      "Epoch 35/100\n",
      "152/152 [==============================] - 0s 328us/step - loss: 83.8593\n",
      "Epoch 36/100\n",
      "152/152 [==============================] - 0s 308us/step - loss: 82.2736\n",
      "Epoch 37/100\n",
      "152/152 [==============================] - 0s 328us/step - loss: 80.6961\n",
      "Epoch 38/100\n",
      "152/152 [==============================] - 0s 302us/step - loss: 79.1915\n",
      "Epoch 39/100\n",
      "152/152 [==============================] - 0s 381us/step - loss: 77.7145\n",
      "Epoch 40/100\n",
      "152/152 [==============================] - 0s 341us/step - loss: 76.1986\n",
      "Epoch 41/100\n",
      "152/152 [==============================] - 0s 302us/step - loss: 74.8104\n",
      "Epoch 42/100\n",
      "152/152 [==============================] - 0s 328us/step - loss: 73.4057\n",
      "Epoch 43/100\n",
      "152/152 [==============================] - 0s 341us/step - loss: 72.0632\n",
      "Epoch 44/100\n",
      "152/152 [==============================] - 0s 328us/step - loss: 70.7266\n",
      "Epoch 45/100\n",
      "152/152 [==============================] - 0s 322us/step - loss: 69.4437\n",
      "Epoch 46/100\n",
      "152/152 [==============================] - 0s 328us/step - loss: 68.1882\n",
      "Epoch 47/100\n",
      "152/152 [==============================] - 0s 341us/step - loss: 66.9286\n",
      "Epoch 48/100\n",
      "152/152 [==============================] - 0s 374us/step - loss: 65.7107\n",
      "Epoch 49/100\n",
      "152/152 [==============================] - 0s 302us/step - loss: 64.4846\n",
      "Epoch 50/100\n",
      "152/152 [==============================] - 0s 315us/step - loss: 63.3106\n",
      "Epoch 51/100\n",
      "152/152 [==============================] - 0s 394us/step - loss: 62.1530\n",
      "Epoch 52/100\n",
      "152/152 [==============================] - 0s 394us/step - loss: 61.0607\n",
      "Epoch 53/100\n",
      "152/152 [==============================] - 0s 381us/step - loss: 59.9935\n",
      "Epoch 54/100\n",
      "152/152 [==============================] - 0s 348us/step - loss: 58.8859\n",
      "Epoch 55/100\n",
      "152/152 [==============================] - 0s 322us/step - loss: 57.8770\n",
      "Epoch 56/100\n",
      "152/152 [==============================] - 0s 341us/step - loss: 56.8500\n",
      "Epoch 57/100\n",
      "152/152 [==============================] - 0s 348us/step - loss: 55.8554\n",
      "Epoch 58/100\n",
      "152/152 [==============================] - 0s 381us/step - loss: 54.8930\n",
      "Epoch 59/100\n",
      "152/152 [==============================] - 0s 335us/step - loss: 53.9151\n",
      "Epoch 60/100\n",
      "152/152 [==============================] - 0s 308us/step - loss: 52.9777\n",
      "Epoch 61/100\n",
      "152/152 [==============================] - 0s 322us/step - loss: 52.0504\n",
      "Epoch 62/100\n",
      "152/152 [==============================] - 0s 308us/step - loss: 51.1175\n",
      "Epoch 63/100\n",
      "152/152 [==============================] - 0s 302us/step - loss: 50.2397\n",
      "Epoch 64/100\n",
      "152/152 [==============================] - 0s 308us/step - loss: 49.3508\n",
      "Epoch 65/100\n",
      "152/152 [==============================] - 0s 335us/step - loss: 48.5454\n",
      "Epoch 66/100\n",
      "152/152 [==============================] - 0s 374us/step - loss: 47.7021\n",
      "Epoch 67/100\n",
      "152/152 [==============================] - 0s 453us/step - loss: 46.9152\n",
      "Epoch 68/100\n",
      "152/152 [==============================] - 0s 354us/step - loss: 46.1516\n",
      "Epoch 69/100\n",
      "152/152 [==============================] - 0s 341us/step - loss: 45.3528\n",
      "Epoch 70/100\n",
      "152/152 [==============================] - 0s 459us/step - loss: 44.6276\n",
      "Epoch 71/100\n",
      "152/152 [==============================] - 0s 446us/step - loss: 43.8763\n",
      "Epoch 72/100\n",
      "152/152 [==============================] - 0s 453us/step - loss: 43.1655\n",
      "Epoch 73/100\n",
      "152/152 [==============================] - 0s 440us/step - loss: 42.4574\n",
      "Epoch 74/100\n",
      "152/152 [==============================] - 0s 433us/step - loss: 41.7918\n",
      "Epoch 75/100\n",
      "152/152 [==============================] - 0s 453us/step - loss: 41.1933\n",
      "Epoch 76/100\n",
      "152/152 [==============================] - 0s 427us/step - loss: 40.5014\n",
      "Epoch 77/100\n",
      "152/152 [==============================] - 0s 459us/step - loss: 39.8865\n",
      "Epoch 78/100\n",
      "152/152 [==============================] - 0s 341us/step - loss: 39.2800\n",
      "Epoch 79/100\n",
      "152/152 [==============================] - 0s 322us/step - loss: 38.7050\n",
      "Epoch 80/100\n",
      "152/152 [==============================] - 0s 308us/step - loss: 38.1261\n",
      "Epoch 81/100\n",
      "152/152 [==============================] - 0s 295us/step - loss: 37.5453\n",
      "Epoch 82/100\n",
      "152/152 [==============================] - 0s 315us/step - loss: 37.0330\n",
      "Epoch 83/100\n",
      "152/152 [==============================] - 0s 387us/step - loss: 36.4867\n",
      "Epoch 84/100\n",
      "152/152 [==============================] - 0s 367us/step - loss: 35.9420\n",
      "Epoch 85/100\n",
      "152/152 [==============================] - 0s 321us/step - loss: 35.4182\n",
      "Epoch 86/100\n",
      "152/152 [==============================] - 0s 308us/step - loss: 34.9241\n",
      "Epoch 87/100\n",
      "152/152 [==============================] - 0s 282us/step - loss: 34.4112\n",
      "Epoch 88/100\n",
      "152/152 [==============================] - 0s 348us/step - loss: 33.9144\n",
      "Epoch 89/100\n",
      "152/152 [==============================] - 0s 322us/step - loss: 33.4397\n",
      "Epoch 90/100\n",
      "152/152 [==============================] - 0s 302us/step - loss: 32.9575\n",
      "Epoch 91/100\n",
      "152/152 [==============================] - 0s 295us/step - loss: 32.4857\n",
      "Epoch 92/100\n",
      "152/152 [==============================] - 0s 315us/step - loss: 32.0233\n",
      "Epoch 93/100\n",
      "152/152 [==============================] - 0s 335us/step - loss: 31.6041\n",
      "Epoch 94/100\n",
      "152/152 [==============================] - 0s 335us/step - loss: 31.1710\n",
      "Epoch 95/100\n",
      "152/152 [==============================] - 0s 328us/step - loss: 30.7617\n",
      "Epoch 96/100\n"
     ]
    },
    {
     "name": "stdout",
     "output_type": "stream",
     "text": [
      "152/152 [==============================] - 0s 335us/step - loss: 30.3441\n",
      "Epoch 97/100\n",
      "152/152 [==============================] - 0s 315us/step - loss: 29.9460\n",
      "Epoch 98/100\n",
      "152/152 [==============================] - 0s 308us/step - loss: 29.5209\n",
      "Epoch 99/100\n",
      "152/152 [==============================] - 0s 295us/step - loss: 29.1447\n",
      "Epoch 100/100\n",
      "152/152 [==============================] - 0s 282us/step - loss: 28.7553\n"
     ]
    },
    {
     "data": {
      "text/plain": [
       "<keras.callbacks.callbacks.History at 0x1e440bc5358>"
      ]
     },
     "execution_count": 57,
     "metadata": {},
     "output_type": "execute_result"
    }
   ],
   "source": [
    "scaler = pre.StandardScaler()\n",
    "scaler.fit(x_test)\n",
    "x_test_scaled = scaler.transform(x_test)\n",
    "\n",
    "m.fit(x_test_scaled, y_test, epochs=100, batch_size=5)"
   ]
  },
  {
   "cell_type": "code",
   "execution_count": 58,
   "metadata": {},
   "outputs": [
    {
     "name": "stdout",
     "output_type": "stream",
     "text": [
      "152/152 [==============================] - 0s 52us/step\n"
     ]
    },
    {
     "data": {
      "text/plain": [
       "28.558309655440482"
      ]
     },
     "execution_count": 58,
     "metadata": {},
     "output_type": "execute_result"
    }
   ],
   "source": [
    "m.evaluate(x_test_scaled, y_test)"
   ]
  },
  {
   "cell_type": "markdown",
   "metadata": {},
   "source": [
    "## References\n",
    "1. https://www.kaggle.com/c/boston-housing\n",
    "2. https://scikit-learn.org/stable/modules/generated/sklearn.datasets.load_boston.html\n",
    "3. https://towardsdatascience.com/linear-regression-on-boston-housing-dataset-f409b7e4a155\n",
    "4. http://www.neural.cz/dataset-exploration-boston-house-pricing.html\n",
    "5. https://en.wikipedia.org/wiki/Descriptive_statistics \n",
    "6. https://www.kaggle.com/shreayan98c/boston-house-price-prediction\n",
    "7. https://towardsdatascience.com/feature-selection-with-pandas-e3690ad8504b\n",
    "8. https://pandas.pydata.org/pandas-docs/stable/reference/api/pandas.DataFrame.corr.html\n",
    "9. https://seaborn.pydata.org/generated/seaborn.pairplot.html\n",
    "10. https://docs.scipy.org/doc/scipy/reference/generated/scipy.stats.mstats.describe.html?highlight=descriptive\n",
    "11. https://www.investopedia.com/terms/k/kurtosis.asp\n",
    "12. https://whatis.techtarget.com/definition/skewness\n",
    "13. https://www.investopedia.com/terms/v/variance.asp\n",
    "14. https://www.mymarketresearchmethods.com/descriptive-inferential-statistics-difference/\n",
    "15. https://towardsdatascience.com/5-minute-guide-to-plotting-with-pandas-e8c0f40a1df4\n",
    "16. https://pandas.pydata.org/pandas-docs/stable/reference/api/pandas.DataFrame.loc.html\n",
    "17. https://pandas.pydata.org/pandas-docs/version/0.23/generated/pandas.DataFrame.count.html\n",
    "18. https://docs.scipy.org/doc/scipy/reference/generated/scipy.stats.linregress.html?highlight=linear%20regression\n",
    "19. https://statistics.laerd.com/statistical-guides/types-of-variable.php\n",
    "20. https://statistics.laerd.com/spss-tutorials/independent-t-test-using-spss-statistics.php\n",
    "21. https://pythonfordatascience.org/independent-t-test-python/\n",
    "15. https://docs.scipy.org/doc/scipy/reference/generated/scipy.stats.ttest_ind.html\n",
    "16. https://pythonfordatascience.org/anova-python/\n",
    "17. https://en.wikipedia.org/wiki/Neural_network\n",
    "18. https://keras.io/\n",
    "19. https://keras.io/getting-started/sequential-model-guide/\n",
    "27. https://scikit-learn.org/stable/modules/preprocessing.html"
   ]
  },
  {
   "cell_type": "code",
   "execution_count": null,
   "metadata": {},
   "outputs": [],
   "source": []
  }
 ],
 "metadata": {
  "kernelspec": {
   "display_name": "Python 3",
   "language": "python",
   "name": "python3"
  },
  "language_info": {
   "codemirror_mode": {
    "name": "ipython",
    "version": 3
   },
   "file_extension": ".py",
   "mimetype": "text/x-python",
   "name": "python",
   "nbconvert_exporter": "python",
   "pygments_lexer": "ipython3",
   "version": "3.7.3"
  }
 },
 "nbformat": 4,
 "nbformat_minor": 2
}
